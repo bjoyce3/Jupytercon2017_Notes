{
 "cells": [
  {
   "cell_type": "code",
   "execution_count": null,
   "metadata": {
    "collapsed": true
   },
   "outputs": [],
   "source": [
    "# Docker pull container\n",
    "# rpy2/polyglot:latest\n",
    "# Current tag: 2.9.x\n",
    "\n",
    "# Test docker container\n",
    "# docker run --rm -t -p 8888:8888 rpy2/polyglot:latest"
   ]
  },
  {
   "cell_type": "markdown",
   "metadata": {},
   "source": [
    "<!-- label:data-from-scratch_1_2 -->\n",
    "<!-- config:split-output -->\n",
    "\n",
    "The setup step is relatively simple as all necessary software is already in the Docker image.\n",
    "\n",
    "The snippet of bash code below will create clone a git repository and will run code it contains to download\n",
    "a dataset and build a SQLite database with its content. This should take no longer than few minutes..."
   ]
  },
  {
   "cell_type": "code",
   "execution_count": null,
   "metadata": {
    "collapsed": true
   },
   "outputs": [],
   "source": [
    "%%bash\n",
    "if [[ -d project-tycho-utilities ]];\n",
    "then\n",
    "  cd project-tycho-utilities/\n",
    "  git pull\n",
    "else\n",
    "  git clone https://github.com/lgautier/project-tycho-utilities.git\n",
    "  cd project-tycho-utilities/\n",
    "fi\n",
    "DBNAME=../tycho.db make all"
   ]
  },
  {
   "cell_type": "code",
   "execution_count": null,
   "metadata": {
    "collapsed": true
   },
   "outputs": [],
   "source": [
    "import sqlite3\n",
    "dbfilename = \"tycho.db\"\n",
    "dbcon = sqlite3.connect(dbfilename)\n",
    "cursor = dbcon.cursor()"
   ]
  },
  {
   "cell_type": "code",
   "execution_count": null,
   "metadata": {
    "collapsed": true
   },
   "outputs": [],
   "source": [
    "sql = \"\"\"\n",
    "SELECT state, city\n",
    "FROM location\n",
    "WHERE state LIKE 'M%'\n",
    "\"\"\"\n",
    "cursor.execute(sql)"
   ]
  }
 ],
 "metadata": {
  "kernelspec": {
   "display_name": "Python 3",
   "language": "python",
   "name": "python3"
  },
  "language_info": {
   "codemirror_mode": {
    "name": "ipython",
    "version": 3
   },
   "file_extension": ".py",
   "mimetype": "text/x-python",
   "name": "python",
   "nbconvert_exporter": "python",
   "pygments_lexer": "ipython3",
   "version": "3.6.1"
  }
 },
 "nbformat": 4,
 "nbformat_minor": 2
}
