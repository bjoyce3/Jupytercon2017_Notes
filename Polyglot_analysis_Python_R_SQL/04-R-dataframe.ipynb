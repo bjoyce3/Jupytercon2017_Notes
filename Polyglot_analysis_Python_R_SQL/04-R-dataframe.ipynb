{
 "cells": [
  {
   "cell_type": "code",
   "execution_count": null,
   "metadata": {},
   "outputs": [],
   "source": [
    "%load_ext rpy2.ipython"
   ]
  },
  {
   "cell_type": "markdown",
   "metadata": {},
   "source": [
    "# R DataFrames\n",
    "\n",
    "## Building DataFrames\n",
    "\n",
    "<!-- label:dataframe_constructor -->\n",
    "\n",
    "An R `DataFrame` is not-unlike SQL tables,\n",
    "or (well-structured) spreadsheets.\n",
    "\n",
    "Data frames are one-dimensional arrays of \"columns\"."
   ]
  },
  {
   "cell_type": "code",
   "execution_count": null,
   "metadata": {},
   "outputs": [],
   "source": [
    "\n",
    "%%R\n",
    "\n",
    "dataf <- data.frame(lower=letters, upper=LETTERS)\n",
    "\n",
    "dataf\n"
   ]
  },
  {
   "cell_type": "markdown",
   "metadata": {},
   "source": [
    "---\n",
    "\n",
    "`data.frame` objects can also be built by reading data in CSV files.\n",
    "\n",
    "**Note:** All data is loaded into memory.\n",
    "This is obviously only working if there is enough memory on the machine used.\n",
    "\n",
    "<!-- label:dataframe_read_csv -->"
   ]
  },
  {
   "cell_type": "code",
   "execution_count": null,
   "metadata": {},
   "outputs": [],
   "source": [
    "%%R\n",
    "\n",
    "csv_filename <- 'location.csv'\n",
    "dataf <- read.csv(csv_filename)"
   ]
  },
  {
   "cell_type": "markdown",
   "metadata": {},
   "source": [
    "Types for the columnd are inferred. This is often acceptable for interactive work, but\n",
    "can also lead to surprises."
   ]
  },
  {
   "cell_type": "code",
   "execution_count": null,
   "metadata": {},
   "outputs": [],
   "source": [
    "%%R\n",
    "str(dataf)"
   ]
  },
  {
   "cell_type": "markdown",
   "metadata": {},
   "source": [
    "# Working with data frames\n",
    "\n",
    "Visually inspection of few rows in the table is a common first step when working interactively.\n",
    "This is often why one wants to \"see the data in a spreadsheet\".\n",
    "\n",
    "<!-- label:dataframe_head -->"
   ]
  },
  {
   "cell_type": "code",
   "execution_count": null,
   "metadata": {},
   "outputs": [],
   "source": [
    "%%R\n",
    "head(dataf)"
   ]
  },
  {
   "cell_type": "markdown",
   "metadata": {},
   "source": [
    "<!-- label:dataframe_tail -->"
   ]
  },
  {
   "cell_type": "code",
   "execution_count": null,
   "metadata": {},
   "outputs": [],
   "source": [
    "%%R\n",
    "tail(dataf)"
   ]
  },
  {
   "cell_type": "markdown",
   "metadata": {},
   "source": [
    "The size of the `data.frame` (number of rows and columns)\n",
    "is also a common early check:"
   ]
  },
  {
   "cell_type": "code",
   "execution_count": null,
   "metadata": {},
   "outputs": [],
   "source": [
    "%%R\n",
    "print(nrow(dataf))\n",
    "print(ncol(dataf))\n"
   ]
  },
  {
   "cell_type": "markdown",
   "metadata": {},
   "source": [
    "Column names."
   ]
  },
  {
   "cell_type": "code",
   "execution_count": null,
   "metadata": {},
   "outputs": [],
   "source": [
    "%%R\n",
    "colnames(dataf)"
   ]
  },
  {
   "cell_type": "markdown",
   "metadata": {},
   "source": [
    "Summary statistics.\n",
    "\n",
    "<!-- label:dataframe_summary -->"
   ]
  },
  {
   "cell_type": "code",
   "execution_count": null,
   "metadata": {},
   "outputs": [],
   "source": [
    "%%R\n",
    "summary(dataf)"
   ]
  },
  {
   "cell_type": "markdown",
   "metadata": {},
   "source": [
    "Filtering rows is a common operation when working with data. This is the `WHERE` clause\n",
    "in SQL."
   ]
  },
  {
   "cell_type": "code",
   "execution_count": null,
   "metadata": {},
   "outputs": [],
   "source": [
    "%%R\n",
    "res <- subset(dataf, grepl(\"^M\", state))\n",
    "\n",
    "print('Original number of rows:', nrow(dataf))\n",
    "print('After filter:', nrow(res))"
   ]
  },
  {
   "cell_type": "markdown",
   "metadata": {},
   "source": [
    "# `dplyr`\n",
    "\n",
    "<!-- label:dplyr_filter -->"
   ]
  },
  {
   "cell_type": "code",
   "execution_count": null,
   "metadata": {},
   "outputs": [],
   "source": [
    "%%R\n",
    "suppressMessages(library(dplyr))\n",
    "res <- dataf %>% filter(grepl(\"^M\", state))\n",
    "res %>% head()"
   ]
  },
  {
   "cell_type": "markdown",
   "metadata": {},
   "source": [
    "---\n",
    "\n",
    "Sorting:"
   ]
  },
  {
   "cell_type": "code",
   "execution_count": null,
   "metadata": {},
   "outputs": [],
   "source": [
    "%%R\n",
    "res <- dataf[order(dataf$city), ]\n",
    "res %>% head()"
   ]
  },
  {
   "cell_type": "markdown",
   "metadata": {},
   "source": [
    "<!-- label:dplyr_arrange -->"
   ]
  },
  {
   "cell_type": "code",
   "execution_count": null,
   "metadata": {},
   "outputs": [],
   "source": [
    "%%R\n",
    "res <- dataf %>% arrange(city)\n",
    "res %>% head()"
   ]
  },
  {
   "cell_type": "markdown",
   "metadata": {},
   "source": [
    "---\n",
    "\n",
    "Like with SQL, tables can be joined using a key (this is like SQL's `INNER JOIN`).\n",
    "\n",
    "<!-- label:dplyr_inner_join -->"
   ]
  },
  {
   "cell_type": "code",
   "execution_count": null,
   "metadata": {},
   "outputs": [],
   "source": [
    "%%R\n",
    "# DataFrame with counts in a column \"count_cities\"\n",
    "res <- dataf %>%\n",
    "       group_by(state) %>%\n",
    "       summarise(count_cities = n())\n",
    "\n",
    "# Join by state (since the counts are aggregates by state)\n",
    "location_with_count <- dataf %>%\n",
    "  inner_join(res, by='state')\n",
    "\n",
    "location_with_count %>% head()"
   ]
  },
  {
   "cell_type": "markdown",
   "metadata": {},
   "source": [
    "---\n",
    "\n",
    "## SQL backends\n",
    "\n",
    "\n",
    "<!-- label:dplyr_src -->"
   ]
  },
  {
   "cell_type": "code",
   "execution_count": null,
   "metadata": {},
   "outputs": [],
   "source": [
    "%%R\n",
    "dbfilename <- \"tycho.db\"\n",
    "datasrc  <- src_sqlite(dbfilename)\n",
    "location_tbl <- tbl(datasrc, \"location\")\n"
   ]
  },
  {
   "cell_type": "markdown",
   "metadata": {},
   "source": [
    "---\n",
    "\n",
    "<!-- label:dplyr_pipe -->"
   ]
  },
  {
   "cell_type": "code",
   "execution_count": null,
   "metadata": {},
   "outputs": [],
   "source": [
    "%%R\n",
    "res <- (location_tbl %>%\n",
    "        group_by('state') %>%\n",
    "        summarise(count_cities = n()) %>%\n",
    "        arrange(desc('count_cities')))\n",
    "res %>% head()"
   ]
  },
  {
   "cell_type": "markdown",
   "metadata": {},
   "source": [
    "---\n",
    "\n",
    "## Exercises:\n",
    "\n",
    "The remaining 2 tables can also be mapped to dplyr objects."
   ]
  },
  {
   "cell_type": "code",
   "execution_count": null,
   "metadata": {},
   "outputs": [],
   "source": [
    "%%R\n",
    "casecount_tbl <- tbl(datasrc, \"casecount\")\n",
    "disease_tbl <- tbl(datasrc, \"disease\")\n"
   ]
  },
  {
   "cell_type": "markdown",
   "metadata": {},
   "source": [
    "Can you answer the following with dplyr ? (yes, these are the same questions as the ones\n",
    "in the notebook about SQL / SQLAlchemy)\n",
    "\n",
    "- Count the number of cities in states with a name starting with 'N'"
   ]
  },
  {
   "cell_type": "code",
   "execution_count": null,
   "metadata": {},
   "outputs": [],
   "source": [
    "%%R\n",
    "\n",
    "location_tbl %>%\n",
    "  filter(sql('city LIKE \"N%\"')) %>%\n",
    "  summarise(n = n())\n"
   ]
  },
  {
   "cell_type": "markdown",
   "metadata": {},
   "source": [
    "- Count the number of cities in each state.\n",
    "\n",
    "- Count the number of cities with a name starting with 'N', stratified by state.\n",
    "\n",
    "- for each state,\n",
    "  count the number of cities for which we have deadly cases\n",
    "  for more than 5 distinct diseases. Oh, and sort the list of states in decreasing\n",
    "  number of such diseases. In fact, only report the first 10 states. (hint: this is\n",
    "  pretty much the last example query about).\n",
    "\n",
    "- Count the total number of cases of flu in NYC\n",
    "  (hint: flu is a short name, you may want the long name)\n",
    "\n",
    "- Count the number of cases of flu in NYC each year"
   ]
  }
 ],
 "metadata": {},
 "nbformat": 4,
 "nbformat_minor": 2
}
