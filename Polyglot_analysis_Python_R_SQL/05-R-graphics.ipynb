{
 "cells": [
  {
   "cell_type": "code",
   "execution_count": null,
   "metadata": {},
   "outputs": [],
   "source": [
    "%load_ext rpy2.ipython"
   ]
  },
  {
   "cell_type": "markdown",
   "metadata": {},
   "source": [
    "# R \"base\" graphics\n",
    "\n",
    "## scatter plot\n",
    "\n",
    "<!-- label:r_plot -->"
   ]
  },
  {
   "cell_type": "code",
   "execution_count": null,
   "metadata": {},
   "outputs": [],
   "source": [
    "%%R -w 400 -h 400\n",
    "\n",
    "x <- seq(1,10)\n",
    "y <- rnorm(10, mean = x, sd = 0.2)\n",
    "plot(x, y)\n"
   ]
  },
  {
   "cell_type": "markdown",
   "metadata": {},
   "source": [
    "## Univariate summary statistics for distributions\n",
    "\n",
    "### Categorical values\n",
    "\n",
    "<!-- label:r_barplot -->"
   ]
  },
  {
   "cell_type": "code",
   "execution_count": null,
   "metadata": {},
   "outputs": [],
   "source": [
    "%%R -w 800 -h 300\n",
    "\n",
    "x <- sample(letters, 500, replace = TRUE)\n",
    "barplot(table(x))"
   ]
  },
  {
   "cell_type": "markdown",
   "metadata": {},
   "source": [
    "### Continuous (numerical) values\n",
    "\n",
    "<!-- label:r_boxplot -->"
   ]
  },
  {
   "cell_type": "code",
   "execution_count": null,
   "metadata": {},
   "outputs": [],
   "source": [
    "%%R -w 400 -h 400\n",
    "x <- rnorm(500)\n",
    "boxplot(x)"
   ]
  },
  {
   "cell_type": "markdown",
   "metadata": {},
   "source": [
    "<!-- label:r_hist -->"
   ]
  },
  {
   "cell_type": "code",
   "execution_count": null,
   "metadata": {},
   "outputs": [],
   "source": [
    "%%R -w 600 -h 300\n",
    "hist(x)"
   ]
  },
  {
   "cell_type": "markdown",
   "metadata": {},
   "source": [
    "R has a very large collection of implementations, offering almost\n",
    "always alternative methods.\n",
    "\n",
    "<!-- label:r_truehist -->"
   ]
  },
  {
   "cell_type": "code",
   "execution_count": null,
   "metadata": {},
   "outputs": [],
   "source": [
    "%%R -w 600 -h 300\n",
    "\n",
    "library(MASS)\n",
    "truehist(x)"
   ]
  },
  {
   "cell_type": "markdown",
   "metadata": {},
   "source": [
    "## multi-plot layout\n",
    "\n",
    "A simple grid layout can be specified with the parameter `mfrow` or `mfcol`:"
   ]
  },
  {
   "cell_type": "code",
   "execution_count": null,
   "metadata": {},
   "outputs": [],
   "source": [
    "%%R -w 600 -h 300\n",
    "\n",
    "par(mfrow = c(1,2))\n",
    "hist(x)\n",
    "truehist(x)"
   ]
  },
  {
   "cell_type": "markdown",
   "metadata": {},
   "source": [
    "More complex layout can be specified with `layout()` and a matrix of integers\n",
    "representing a subdivision of the plotting area into blocks.\n",
    "\n",
    "\n",
    "<!-- label:r_layout_show -->"
   ]
  },
  {
   "cell_type": "code",
   "execution_count": null,
   "metadata": {},
   "outputs": [],
   "source": [
    "%%R -w 600 -h 300\n",
    "m <- matrix(c(1, 1, 2, 3), ncol = 2, byrow = TRUE)\n",
    "print(m)\n",
    "lt <- layout(m)\n",
    "layout.show(lt)"
   ]
  },
  {
   "cell_type": "markdown",
   "metadata": {},
   "source": [
    "<!-- label:r_layout -->"
   ]
  },
  {
   "cell_type": "code",
   "execution_count": null,
   "metadata": {},
   "outputs": [],
   "source": [
    "%%R -w 600 -h 400\n",
    "lt <- layout(m)\n",
    "truehist(x)\n",
    "hist(x)\n",
    "boxplot(x)"
   ]
  },
  {
   "cell_type": "markdown",
   "metadata": {},
   "source": [
    "# `grid`, `lattice`, and `trellis`.\n",
    "\n",
    "`grid` is a more advanced plotting system than the base one, and `lattice` is the implementation\n",
    "of higher-level plotting primitives for statistics. `trellis` plots are making the creation\n",
    "of panels with the same visualization across strata of the data. \n",
    "\n",
    "\n",
    "<!-- label:r_lattice_1 -->"
   ]
  },
  {
   "cell_type": "code",
   "execution_count": null,
   "metadata": {},
   "outputs": [],
   "source": [
    "%%R\n",
    "library(lattice)\n",
    "\n",
    "# split the continuous value \"depth\" into groups with information\n",
    "# about the number of data point in each group\n",
    "depth_split <- equal.count(quakes$depth, number = 8, overlap = .1)"
   ]
  },
  {
   "cell_type": "markdown",
   "metadata": {},
   "source": [
    "Note in the code below that the variable is a vector in the global namespace,\n",
    "not a column in the data frame `quakes`.\n",
    "\n",
    "<!-- label:r_lattice_2 -->"
   ]
  },
  {
   "cell_type": "code",
   "execution_count": null,
   "metadata": {},
   "outputs": [],
   "source": [
    "%%R -w 600 -h 600\n",
    "xyplot(lat ~ long | depth_split, data = quakes)"
   ]
  },
  {
   "cell_type": "markdown",
   "metadata": {},
   "source": [
    "Figures can be \"updated\" with new parameters."
   ]
  },
  {
   "cell_type": "code",
   "execution_count": null,
   "metadata": {},
   "outputs": [],
   "source": [
    "%%R -w 600 -h 600\n",
    "xyplot(lat ~ long | depth_split, data = quakes)\n",
    "update(trellis.last.object(),\n",
    "       strip = strip.custom(strip.names = TRUE, strip.levels = TRUE),\n",
    "       par.strip.text = list(cex = 0.75),\n",
    "       aspect = \"iso\")"
   ]
  },
  {
   "cell_type": "markdown",
   "metadata": {},
   "source": [
    "# `ggplot2` graphics\n",
    "\n",
    "\n",
    "`ggplot2` is an implementation of Wilkinson's grammar of graphics using `grid`.\n",
    "\n",
    "In a nutshell, `ggplot2` graphics are built by adding layer,\n",
    "each using a plotting method and mapping visual dimensions (\"aesthetics\") understood by\n",
    "that method to columns in a data frame.\n",
    "\n",
    "---\n",
    "\n",
    "<!-- label:r_load_ggplot2 -->\n",
    "\n",
    "Load ggplot2"
   ]
  },
  {
   "cell_type": "code",
   "execution_count": null,
   "metadata": {},
   "outputs": [],
   "source": [
    "%%R\n",
    "\n",
    "library(ggplot2)"
   ]
  },
  {
   "cell_type": "markdown",
   "metadata": {},
   "source": [
    "<!-- label:r_geom_point -->\n",
    "\n",
    "The visual dimensions \"x-axis\" and \"y-axis\" are mapped to the columns\n",
    "\"long\" and \"lat\" respectively."
   ]
  },
  {
   "cell_type": "code",
   "execution_count": null,
   "metadata": {},
   "outputs": [],
   "source": [
    "%%R -w 600 -h 500\n",
    "\n",
    "ggplot(quakes) +\n",
    "  geom_point(aes(x = long, y =lat))"
   ]
  },
  {
   "cell_type": "markdown",
   "metadata": {},
   "source": [
    "The visual dimension \"color\" is mapped to the column \"depth\".\n",
    "\n",
    "<!-- label:r_geom_point_color -->"
   ]
  },
  {
   "cell_type": "code",
   "execution_count": null,
   "metadata": {},
   "outputs": [],
   "source": [
    "%%R -w 600 -h 500\n",
    "\n",
    "ggplot(quakes) +\n",
    "  geom_point(aes(x = long, y = lat, color = depth))"
   ]
  },
  {
   "cell_type": "markdown",
   "metadata": {},
   "source": [
    "Frequently-needed customizations are generally only function away.\n",
    "\n",
    "<!-- label:r_geom_point_base_size -->"
   ]
  },
  {
   "cell_type": "code",
   "execution_count": null,
   "metadata": {},
   "outputs": [],
   "source": [
    "%%R -w 600 -h 500\n",
    "ggplot(quakes) +\n",
    "  geom_point(aes(x = long, y =lat, color = depth)) +\n",
    "  theme_linedraw(base_size = 20)"
   ]
  },
  {
   "cell_type": "markdown",
   "metadata": {},
   "source": [
    "<!-- label:r_geom_histogram -->"
   ]
  },
  {
   "cell_type": "code",
   "execution_count": null,
   "metadata": {},
   "outputs": [],
   "source": [
    "%%R -w 600 -h 300\n",
    "\n",
    "ggplot(quakes) +\n",
    "  geom_histogram(aes(x = long), bins = 30)"
   ]
  },
  {
   "cell_type": "markdown",
   "metadata": {},
   "source": [
    "<!-- label:r_geom_density2d -->"
   ]
  },
  {
   "cell_type": "code",
   "execution_count": null,
   "metadata": {},
   "outputs": [],
   "source": [
    "%%R -w 600 -h 500\n",
    "\n",
    "ggplot(quakes) +\n",
    "  geom_density2d(aes(x = long, y =lat))"
   ]
  },
  {
   "cell_type": "markdown",
   "metadata": {},
   "source": [
    "<!-- label:r_geom_density2d_and_point -->"
   ]
  },
  {
   "cell_type": "code",
   "execution_count": null,
   "metadata": {},
   "outputs": [],
   "source": [
    "%%R -w 600 -h 500\n",
    "\n",
    "ggplot(quakes) +\n",
    "  geom_density2d(aes(x = long, y =lat), color=\"darkgrey\") +\n",
    "  geom_point(aes(x = long, y = lat, color = depth))"
   ]
  }
 ],
 "metadata": {},
 "nbformat": 4,
 "nbformat_minor": 2
}
