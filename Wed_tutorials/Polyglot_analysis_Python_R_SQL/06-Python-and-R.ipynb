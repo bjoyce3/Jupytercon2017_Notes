{
 "cells": [
  {
   "cell_type": "markdown",
   "metadata": {},
   "source": [
    "Ensure that our database is ready"
   ]
  },
  {
   "cell_type": "code",
   "execution_count": null,
   "metadata": {},
   "outputs": [],
   "source": [
    "%%bash\n",
    "if [[ -d project-tycho-utilities ]];\n",
    "then\n",
    "  cd project-tycho-utilities/\n",
    "  git pull\n",
    "else\n",
    "  git clone https://github.com/lgautier/project-tycho-utilities.git\n",
    "  cd project-tycho-utilities/\n",
    "fi\n",
    "DBNAME=../tycho.db make all"
   ]
  },
  {
   "cell_type": "markdown",
   "metadata": {},
   "source": [
    "---"
   ]
  },
  {
   "cell_type": "code",
   "execution_count": null,
   "metadata": {},
   "outputs": [],
   "source": [
    "%load_ext rpy2.ipython"
   ]
  },
  {
   "cell_type": "markdown",
   "metadata": {},
   "source": [
    "R packages can be imported as is they were Python packages:\n",
    "\n",
    "<!-- label:rpy2_importr -->"
   ]
  },
  {
   "cell_type": "code",
   "execution_count": null,
   "metadata": {},
   "outputs": [],
   "source": [
    "from rpy2.robjects.packages import importr\n",
    "\n",
    "stats = importr('stats')\n"
   ]
  },
  {
   "cell_type": "markdown",
   "metadata": {},
   "source": [
    "<!-- label:rpy2_rnorm -->"
   ]
  },
  {
   "cell_type": "code",
   "execution_count": null,
   "metadata": {},
   "outputs": [],
   "source": [
    "\n",
    "tuple(stats.rnorm(5))\n"
   ]
  },
  {
   "cell_type": "markdown",
   "metadata": {},
   "source": [
    "---\n",
    "\n",
    "<!-- label:dplyr_table -->\n",
    "dplyr is not trying to map objects. It is focusing on databases\n",
    "as sources of tables."
   ]
  },
  {
   "cell_type": "code",
   "execution_count": null,
   "metadata": {},
   "outputs": [],
   "source": [
    "from rpy2.robjects.lib import dplyr\n",
    "\n",
    "dbfilename = \"tycho.db\"\n",
    "datasrc  = dplyr.src_sqlite(dbfilename)\n",
    "location_tbl = datasrc.get_table(\"location\")"
   ]
  },
  {
   "cell_type": "markdown",
   "metadata": {},
   "source": [
    "<!-- label:dplyr_query -->\n",
    "The table can be queried using the dplyr interface."
   ]
  },
  {
   "cell_type": "code",
   "execution_count": null,
   "metadata": {},
   "outputs": [],
   "source": [
    "res =  (location_tbl\n",
    "        .filter('state %like% \"M%\"')\n",
    "        .group_by('state')\n",
    "        .count('state')\n",
    "        .arrange('desc(n)'))\n",
    "\n",
    "print(res)\n"
   ]
  },
  {
   "cell_type": "markdown",
   "metadata": {},
   "source": [
    "Strings are snippets of R code for dplyr.\n",
    "\n",
    "R can be considered a domain-specific language (DSL) in the Python code.\n",
    "\n",
    "---\n",
    "\n",
    "<!-- label:dplyr_advanced -->\n",
    "\n",
    "Let's implement our complex SQL query from early with dplyr."
   ]
  },
  {
   "cell_type": "code",
   "execution_count": null,
   "metadata": {},
   "outputs": [],
   "source": [
    "casecount_tbl = datasrc.get_table(\"casecount\")\n",
    "\n",
    "## Count diseases\n",
    "disease_per_city = (casecount_tbl\n",
    "                    .group_by('location_id')\n",
    "                    .summarize(n='count(distinct(disease_id))'))\n",
    "## Filter cities\n",
    "high_disease = (disease_per_city\n",
    "                .filter('n > 5'))\n",
    "## Join location\n",
    "inner_join = dplyr.inner_join\n",
    "join_location = inner_join((location_tbl\n",
    "                            .mutate(location_id=\"id\")),\n",
    "                           high_disease,\n",
    "                           by=\"location_id\")\n",
    "res = (dplyr.DataFrame(join_location)\n",
    "       .group_by('state')\n",
    "       .summarize(n='count(city)')\n",
    "       .arrange('desc(n)')\n",
    "       .collect())\n"
   ]
  },
  {
   "cell_type": "markdown",
   "metadata": {},
   "source": [
    "---\n",
    "\n",
    "<!-- label:ggplot2_figure -->\n",
    "The R package ggplot2 can also be used."
   ]
  },
  {
   "cell_type": "code",
   "execution_count": null,
   "metadata": {},
   "outputs": [],
   "source": [
    "from rpy2.robjects import r, globalenv\n",
    "import rpy2.robjects.lib.ggplot2 as gg\n",
    "\n",
    "p = (gg.ggplot(res.head(20)) +\n",
    "     gg.geom_bar(\n",
    "       gg.aes_string(x='factor(state, levels=as.character(state))', \n",
    "                     y='n'),\n",
    "                 stat='identity') +\n",
    "     gg.scale_x_discrete(\"State\") +\n",
    "     gg.scale_y_sqrt(\"# cities w/ >5 diseases\"))"
   ]
  },
  {
   "cell_type": "markdown",
   "metadata": {},
   "source": [
    "<!-- label:ggplot2_plot -->\n",
    "<!-- config:split-output -->\n",
    "Sending the resulting figure to a jupyter notebook output."
   ]
  },
  {
   "cell_type": "code",
   "execution_count": null,
   "metadata": {},
   "outputs": [],
   "source": [
    "from rpy2.ipython.ggplot import image_png\n",
    "from IPython.display import display\n",
    "\n",
    "display(image_png(p))"
   ]
  },
  {
   "cell_type": "markdown",
   "metadata": {},
   "source": [
    "---\n",
    "\n",
    "<!-- label:ggplot2_plot_map -->\n",
    "<!-- config:split-output -->"
   ]
  },
  {
   "cell_type": "code",
   "execution_count": null,
   "metadata": {},
   "outputs": [],
   "source": [
    "from rpy2.robjects.packages import importr\n",
    "from rpy2.robjects import baseenv\n",
    "\n",
    "maps = importr('maps')\n",
    "# R dataset with map information in regions \n",
    "states = dplyr.DataFrame(gg.map_data('state'))\n",
    "# R dataset mapping states and regions\n",
    "state_abb = (dplyr.DataFrame({'state': baseenv.get('state.abb'),\n",
    "                              'region': baseenv.get('state.name')})\n",
    "             .mutate(region = 'tolower(region)'))\n",
    "# Join both\n",
    "states_map = dplyr.inner_join(states, state_abb, by=\"region\")\n",
    "dataf_plot = (dplyr.inner_join(states_map, res, by=\"state\")\n",
    "\t      .arrange('order'))\n",
    "\n",
    "p = (gg.ggplot(dataf_plot) +\n",
    "     gg.geom_polygon(gg.aes_string(x='long', y='lat',\n",
    "                                   group='group', fill='n')) +\n",
    "     gg.scale_fill_continuous(trans=\"sqrt\") +\n",
    "     gg.coord_map(\"albers\",  at0 = 45.5, lat1 = 29.5) +\n",
    "     gg.theme_gray(base_size = 12))\n",
    "display(image_png(p))"
   ]
  },
  {
   "cell_type": "markdown",
   "metadata": {},
   "source": [
    "---\n",
    "\n",
    "<!-- label:ggplot2_plot_map_gilbert -->\n",
    "<!-- config:split-output -->"
   ]
  },
  {
   "cell_type": "code",
   "execution_count": null,
   "metadata": {},
   "outputs": [],
   "source": [
    "p = (gg.ggplot(dataf_plot) +\n",
    "     gg.geom_polygon(gg.aes_string(x='long', y='lat',\n",
    "                                   group='group', fill='n')) +\n",
    "     gg.scale_fill_continuous(trans=\"sqrt\") +\n",
    "     gg.theme_gray(base_size = 12))\n",
    "     \n",
    "display(\n",
    "    image_png(p +\n",
    "              gg.coord_map(\"gilbert\")))"
   ]
  },
  {
   "cell_type": "markdown",
   "metadata": {},
   "source": [
    "---\n",
    "\n",
    "<!-- label:ggplot2_plot_map_azequalarea -->\n",
    "<!-- config:split-output -->"
   ]
  },
  {
   "cell_type": "code",
   "execution_count": null,
   "metadata": {},
   "outputs": [],
   "source": [
    "from rpy2.robjects.vectors import FloatVector\n",
    "# Centered on New York\n",
    "display(\n",
    "    image_png(p +\n",
    "              gg.geom_polygon(gg.aes_string(x='long', y='lat',\n",
    "                                            group='group'),\n",
    "                              alpha = 0.2,\n",
    "                              data=gg.map_data(\"world\")) +\n",
    "              gg.coord_map(\"azequalarea\",\n",
    "                           orientation = FloatVector([41, -74, 0])) +\n",
    "              gg.labs(title = \"Centered on New York\")))"
   ]
  },
  {
   "cell_type": "markdown",
   "metadata": {},
   "source": [
    "---\n",
    "<!-- label:ggplot2_plot_pneumonia_prepare_1_2 -->"
   ]
  },
  {
   "cell_type": "code",
   "execution_count": null,
   "metadata": {},
   "outputs": [],
   "source": [
    "sql_disease = \"\"\"\n",
    "SELECT date_from, count, event, city\n",
    "FROM casecount\n",
    "INNER JOIN disease\n",
    "ON casecount.disease_id=disease.id\n",
    "INNER JOIN location\n",
    "ON casecount.location_id=location.id\n",
    "WHERE disease.name='%s'\n",
    "AND state='%s'\n",
    "AND city IS NOT NULL\n",
    "\"\"\"\n",
    "sql = sql_disease % ('PNEUMONIA', 'MA')"
   ]
  },
  {
   "cell_type": "markdown",
   "metadata": {},
   "source": [
    "<!-- label:ggplot2_plot_pneumonia_prepare_2_2 -->"
   ]
  },
  {
   "cell_type": "code",
   "execution_count": null,
   "metadata": {},
   "outputs": [],
   "source": [
    "robj = dplyr.tbl(datasrc, dplyr.dplyr.sql(sql))\n",
    "dataf = (dplyr.DataFrame(robj).collect()\n",
    "         .mutate(date='as.POSIXct(strptime(date_from, format=\"%Y-%m-%d\"))')\n",
    "         .mutate(month = 'format(date, \"%m\")',\n",
    "                 year = 'format(date, \"%Y\")'))\n",
    "# sum per month\n",
    "dataf_plot = (dataf\n",
    "              .group_by('city', 'event', 'month','year')\n",
    "              .summarize(count='sum(count)'))\n",
    "# \n",
    "yearmonth_to_date = \"\"\"\n",
    "as.POSIXct(\n",
    "    strptime(\n",
    "        paste(year, month, \"15\", sep=\"-\"),\n",
    "        format=\"%Y-%m-%d\")\n",
    "    )\n",
    "\"\"\"\n",
    "\n",
    "dataf_plot = dataf_plot.mutate(date=yearmonth_to_date)"
   ]
  },
  {
   "cell_type": "markdown",
   "metadata": {},
   "source": [
    "Initial plot:"
   ]
  },
  {
   "cell_type": "code",
   "execution_count": null,
   "metadata": {},
   "outputs": [],
   "source": [
    "from rpy2.robjects import Formula\n",
    "p = (gg.ggplot(dataf_plot) +\n",
    "     gg.geom_line(gg.aes_string(x='date', y='count',\n",
    "                                group='city')) +\n",
    "     gg.scale_y_sqrt() +\n",
    "     gg.facet_wrap(Formula('~ event')))\n",
    "display(image_png(p))"
   ]
  },
  {
   "cell_type": "markdown",
   "metadata": {},
   "source": [
    "Color Boston vs Other"
   ]
  },
  {
   "cell_type": "code",
   "execution_count": null,
   "metadata": {},
   "outputs": [],
   "source": [
    "p = (gg.ggplot(dataf_plot\n",
    "               .mutate(city_label='ifelse(city==\"BOSTON\", \"Boston\", \"Other\")')) +\n",
    "     gg.geom_line(gg.aes_string(x='date', y='count',\n",
    "                                group='city', color='city_label')) +\n",
    "     gg.scale_y_sqrt() +\n",
    "     gg.facet_wrap(Formula('~ event')))\n",
    "display(image_png(p))"
   ]
  },
  {
   "cell_type": "markdown",
   "metadata": {},
   "source": [
    "Something is strange before approx. 1925. Let's focus on the most recent\n",
    "data."
   ]
  },
  {
   "cell_type": "code",
   "execution_count": null,
   "metadata": {},
   "outputs": [],
   "source": [
    "p = (gg.ggplot(dataf_plot\n",
    "               .mutate(city_label='ifelse(city==\"BOSTON\", \"Boston\", \"Other\")')\n",
    "               .filter('year > 1925')) +\n",
    "     gg.geom_line(gg.aes_string(x='date', y='count',\n",
    "                                group='city', color='city_label')) +\n",
    "     gg.scale_y_sqrt() +\n",
    "     gg.facet_wrap(Formula('~ event')))\n",
    "display(image_png(p))"
   ]
  },
  {
   "cell_type": "markdown",
   "metadata": {},
   "source": [
    "Data for relatively few city. We can color them individually."
   ]
  },
  {
   "cell_type": "code",
   "execution_count": null,
   "metadata": {},
   "outputs": [],
   "source": [
    "p = (gg.ggplot(dataf_plot\n",
    "               .filter('year > 1925')) +\n",
    "     gg.geom_line(gg.aes_string(x='date', y='count',\n",
    "                                group='city', color='city')) +\n",
    "     gg.scale_y_sqrt() +\n",
    "     gg.facet_wrap(Formula('~ event')))\n",
    "display(image_png(p))"
   ]
  },
  {
   "cell_type": "markdown",
   "metadata": {},
   "source": [
    "Decreasing for Boston, increasing for Worcester."
   ]
  },
  {
   "cell_type": "code",
   "execution_count": null,
   "metadata": {},
   "outputs": [],
   "source": [
    "p = (gg.ggplot(dataf_plot\n",
    "               .filter('year > 1925')) +\n",
    "     gg.geom_line(gg.aes_string(x='date', y='count',\n",
    "                                group='city', color='city'),\n",
    "                  alpha=0.4) +\n",
    "     gg.geom_smooth(gg.aes_string(x='date', y='count',\n",
    "                                group='city', color='city')) +\n",
    "     gg.scale_y_sqrt() +\n",
    "     gg.facet_wrap(Formula('~ event')))\n",
    "display(image_png(p))"
   ]
  },
  {
   "cell_type": "markdown",
   "metadata": {},
   "source": [
    "<!-- label:ggplot2_plot_pneumonia -->\n",
    "<!-- config:split-output -->"
   ]
  },
  {
   "cell_type": "code",
   "execution_count": null,
   "metadata": {},
   "outputs": [],
   "source": [
    "p = (gg.ggplot(dataf_plot\n",
    "               .filter('year > 1925')) +\n",
    "     gg.geom_line(\n",
    "       gg.aes_string(x='month', y='count',\n",
    "                     group='paste(year, city)', color='city')) +\n",
    "     gg.facet_grid('city~.', scales=\"free_y\") +\n",
    "     gg.scale_y_sqrt() +\n",
    "     gg.facet_wrap(Formula('~ event')))\n",
    "display(image_png(p))"
   ]
  },
  {
   "cell_type": "markdown",
   "metadata": {},
   "source": [
    "Which years correspond to largest number of cases in Boston ?"
   ]
  },
  {
   "cell_type": "code",
   "execution_count": null,
   "metadata": {},
   "outputs": [],
   "source": [
    "set((dataf_plot\n",
    "     .filter('count>200', 'year>1925')\n",
    "     .rx2('year')))"
   ]
  },
  {
   "cell_type": "markdown",
   "metadata": {},
   "source": [
    "Corresponds to largest number of cases in Fall Rivers.\n",
    "Springfield and Worcester have different bad years."
   ]
  },
  {
   "cell_type": "code",
   "execution_count": null,
   "metadata": {},
   "outputs": [],
   "source": [
    "p = (gg.ggplot(dataf_plot\n",
    "               .filter('year > 1925')) +\n",
    "     gg.geom_line(gg.aes_string(x='month', y='count', \n",
    "                                group='year', \n",
    "                                color='year %in% c(1926,1929,1931,1933,1937)')) +\n",
    "     gg.facet_grid(Formula('city ~ event'), scales=\"free_y\"))\n",
    "display(image_png(p))"
   ]
  },
  {
   "cell_type": "markdown",
   "metadata": {},
   "source": [
    "---\n",
    "\n",
    "Function to plot monthly aggregates.\n",
    "\n",
    "<!-- label:function_make_ggplot -->"
   ]
  },
  {
   "cell_type": "code",
   "execution_count": null,
   "metadata": {},
   "outputs": [],
   "source": [
    "def myplot(disease, state):\n",
    "    sql = sql_disease % (disease, state)\n",
    "    dataf = (dplyr.DataFrame(dplyr.tbl(datasrc, dplyr.dplyr.sql(sql))).collect()\n",
    "             .mutate(date='as.POSIXct(strptime(date_from, format=\"%Y-%m-%d\"))')\n",
    "             .mutate(month = 'format(date, \"%m\")',\n",
    "                     year = 'format(date, \"%Y\")'))\n",
    "\n",
    "    dataf_plot = (dataf\n",
    "                  .group_by('city', 'event', 'month','year')\n",
    "                  .summarize(count='sum(count)'))\n",
    "    \n",
    "    dataf_plot = dataf_plot.mutate(date=yearmonth_to_date)\n",
    "    p = (gg.ggplot(dataf_plot\n",
    "                    .filter('year > 1925')) +\n",
    "         gg.geom_line(gg.aes_string(x='month', y='count+1',\n",
    "                                    group='year', color='city')) +\n",
    "         gg.facet_grid(Formula('city ~ event'), scales=\"free_y\") +\n",
    "         gg.scale_y_sqrt() +\n",
    "         gg.ggtitle(disease))\n",
    "    display(image_png(p, height=600))"
   ]
  },
  {
   "cell_type": "markdown",
   "metadata": {},
   "source": [
    "<!-- label:widget_ggplot -->"
   ]
  },
  {
   "cell_type": "code",
   "execution_count": null,
   "metadata": {},
   "outputs": [],
   "source": [
    "from ipywidgets import interact\n",
    "interact(myplot,\n",
    "         disease=['PNEUMONIA','INFLUENZA','MEASLES'],\n",
    "         state=['MA','NH','CA'])"
   ]
  },
  {
   "cell_type": "markdown",
   "metadata": {},
   "source": [
    "---\n",
    "\n",
    "<!-- label:bokeh -->\n",
    "<!-- config:split-output -->"
   ]
  },
  {
   "cell_type": "code",
   "execution_count": null,
   "metadata": {
    "attributes": {
     "classes": [],
     "id": "bokeh_scatter"
    }
   },
   "outputs": [],
   "source": [
    "from bokeh.plotting import (figure, show,\n",
    "                            ColumnDataSource,\n",
    "                            output_notebook)\n",
    "##from bokeh.resources import INLINE\n",
    "output_notebook()\n",
    "\n",
    "res = res.head(20)\n",
    "plot = figure(x_range=list(res.rx2('state')))\n",
    "source = ColumnDataSource({x: tuple(res.rx2(x)) for x in res.colnames})\n",
    "plot.vbar(x='state',\n",
    "          bottom=0, top='n',\n",
    "          width=0.5,\n",
    "          color='STEELBLUE',\n",
    "          source=source)"
   ]
  },
  {
   "cell_type": "markdown",
   "metadata": {},
   "source": [
    "<!-- label:bokeh_show -->"
   ]
  },
  {
   "cell_type": "code",
   "execution_count": null,
   "metadata": {},
   "outputs": [],
   "source": [
    "show(plot)\n"
   ]
  }
 ],
 "metadata": {},
 "nbformat": 4,
 "nbformat_minor": 2
}
