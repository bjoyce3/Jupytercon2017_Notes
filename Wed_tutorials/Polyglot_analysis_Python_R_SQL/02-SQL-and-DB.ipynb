{
 "cells": [
  {
   "cell_type": "markdown",
   "metadata": {},
   "source": [
    "Ensure that our database is ready"
   ]
  },
  {
   "cell_type": "code",
   "execution_count": null,
   "metadata": {},
   "outputs": [],
   "source": [
    "%%bash\n",
    "if [[ -d project-tycho-utilities ]];\n",
    "then\n",
    "  cd project-tycho-utilities/\n",
    "  git pull\n",
    "else\n",
    "  git clone https://github.com/lgautier/project-tycho-utilities.git\n",
    "  cd project-tycho-utilities/\n",
    "fi\n",
    "DBNAME=../tycho.db make all"
   ]
  },
  {
   "cell_type": "markdown",
   "metadata": {},
   "source": [
    "---\n",
    "\n",
    "\n",
    "<!-- label:sqlite -->\n",
    "\n",
    "Opening a connection to a database (here an SQLite database)\n",
    "and getting a cursor is straightforward."
   ]
  },
  {
   "cell_type": "code",
   "execution_count": null,
   "metadata": {},
   "outputs": [],
   "source": [
    "import sqlite3\n",
    "dbfilename = \"tycho.db\"\n",
    "dbcon = sqlite3.connect(dbfilename)\n",
    "cursor = dbcon.cursor()"
   ]
  },
  {
   "cell_type": "markdown",
   "metadata": {},
   "source": [
    "<!-- label:sqlite_firstquery -->\n",
    "\n",
    "Our first query is simple: we want to fetch the cities\n",
    "in states with a name starting with \"M\""
   ]
  },
  {
   "cell_type": "code",
   "execution_count": null,
   "metadata": {},
   "outputs": [],
   "source": [
    "sql = \"\"\"\n",
    "SELECT state, city\n",
    "FROM location\n",
    "WHERE state LIKE 'M%'\n",
    "\"\"\"\n",
    "cursor.execute(sql)"
   ]
  },
  {
   "cell_type": "markdown",
   "metadata": {},
   "source": [
    "<!-- label:sqlite_firstresults -->\n",
    "Results can then be pulled from the database, and further\n",
    "computation done with Python.\n",
    "\n",
    "---\n",
    "\n",
    "Results can subsequently be fetched with:"
   ]
  },
  {
   "cell_type": "code",
   "execution_count": null,
   "metadata": {},
   "outputs": [],
   "source": [
    "cursor.fetchmany(10)"
   ]
  },
  {
   "cell_type": "markdown",
   "metadata": {},
   "source": [
    "Notes:\n",
    "- Databases can hold a LARGE amount of data. The following statement is potentially retrieving a LARGE\n",
    "amount of data. Use with care.\n",
    "- The following command will retrieve remaining results after the call to `fetchmany()` above."
   ]
  },
  {
   "cell_type": "code",
   "execution_count": null,
   "metadata": {},
   "outputs": [],
   "source": [
    "all_the_rest = cursor.fetchall()"
   ]
  },
  {
   "cell_type": "code",
   "execution_count": null,
   "metadata": {},
   "outputs": [],
   "source": [
    "# clean up\n",
    "del(all_the_rest)"
   ]
  },
  {
   "cell_type": "markdown",
   "metadata": {},
   "source": [
    "---\n",
    "\n",
    "If what we want is to count the number of cities in each state\n",
    "matching our predicate, this can be achieved with:"
   ]
  },
  {
   "cell_type": "code",
   "execution_count": null,
   "metadata": {},
   "outputs": [],
   "source": [
    "cursor.execute(sql)\n",
    "\n",
    "from collections import Counter\n",
    "ct = Counter(row[0] for row in cursor)\n",
    "\n",
    "ct"
   ]
  },
  {
   "cell_type": "markdown",
   "metadata": {},
   "source": [
    "<!-- label:sqlite_secondquery -->\n",
    "Some of the post-processing done in Python can be pushed\n",
    "back to the database"
   ]
  },
  {
   "cell_type": "code",
   "execution_count": null,
   "metadata": {},
   "outputs": [],
   "source": [
    "sql = \"\"\"\n",
    "SELECT state, count(city) AS ct\n",
    "FROM location\n",
    "WHERE state LIKE 'M%'\n",
    "GROUP BY state\n",
    "ORDER BY ct DESC\n",
    "\"\"\"\n",
    "\n",
    "cursor.execute(sql)\n",
    "\n",
    "cursor.fetchmany(10)"
   ]
  },
  {
   "cell_type": "markdown",
   "metadata": {},
   "source": [
    "There is usually documentation about the database schema, but querying the database\n",
    "to ask information about a given table can be convenient. This is less standardized\n",
    "SQL, here is how to achieve this with sqlite:"
   ]
  },
  {
   "cell_type": "code",
   "execution_count": null,
   "metadata": {},
   "outputs": [],
   "source": [
    "def table_info(tablename, cursor):\n",
    "    sql = 'PRAGMA table_info(%s)' % tablename\n",
    "    cursor.execute(sql)\n",
    "    return cursor.fetchall()"
   ]
  },
  {
   "cell_type": "code",
   "execution_count": null,
   "metadata": {},
   "outputs": [],
   "source": [
    "for tablename in (\"location\", \"casecount\", \"disase\"):\n",
    "  print(tablename)\n",
    "  print(table_info(tablename, cursor))\n",
    "  print()\n"
   ]
  },
  {
   "cell_type": "markdown",
   "metadata": {},
   "source": [
    "Results can be further exported to different formats."
   ]
  },
  {
   "cell_type": "code",
   "execution_count": null,
   "metadata": {},
   "outputs": [],
   "source": [
    "sql = \"\"\"\n",
    "SELECT\n",
    "  state, city\n",
    "FROM\n",
    "  location\n",
    "\"\"\"\n",
    "\n",
    "cursor.execute(sql)\n",
    "\n",
    "import csv\n",
    "with open('location.csv', 'w') as fh:\n",
    "  csv_w = csv.writer(fh)\n",
    "  csv_w.writerow(('state', 'city'))\n",
    "  csv_w.writerows(cursor)"
   ]
  },
  {
   "cell_type": "markdown",
   "metadata": {},
   "source": [
    "---\n",
    "\n",
    "Our database schema has an other table `casecount` that contains\n",
    "the count of cases for several diseases broken down by city and date.\n",
    "\n",
    "Now we want the answer to a slightly more complex question: for each state,\n",
    "count the number of cities for which we have cases\n",
    "for more than 5 distinct diseases. Oh, and sort the list of states in decreasing\n",
    "number of such diseases. In fact, only report the first 5 states.\n",
    "\n",
    "<!-- label:sqlite_complexquery -->"
   ]
  },
  {
   "cell_type": "code",
   "execution_count": null,
   "metadata": {},
   "outputs": [],
   "source": [
    "sql = \"\"\"\n",
    "SELECT state, count(city) city_count\n",
    "FROM (SELECT deadly_cases.location_id\n",
    "      FROM (SELECT location_id, COUNT(DISTINCT(disease_id)) AS d_count\n",
    "            FROM casecount\n",
    "            WHERE event=\"CASES\"\n",
    "            GROUP BY location_id) AS deadly_cases\n",
    "      WHERE deadly_cases.d_count > 5) AS selected_locations\n",
    "INNER JOIN location\n",
    "ON selected_locations.location_id = location.id\n",
    "GROUP BY state\n",
    "ORDER BY city_count DESC\n",
    "LIMIT 5\n",
    "\"\"\"\n",
    "cursor.execute(sql)"
   ]
  },
  {
   "cell_type": "markdown",
   "metadata": {},
   "source": [
    "---\n",
    "\n",
    "<!-- label:sqlalchemy_open -->\n",
    "Opening the same database using an ORM (SQLalchemy)."
   ]
  },
  {
   "cell_type": "code",
   "execution_count": null,
   "metadata": {},
   "outputs": [],
   "source": [
    "from sqlalchemy.ext.automap import automap_base\n",
    "from sqlalchemy.orm import Session\n",
    "from sqlalchemy import create_engine\n",
    "\n",
    "Base = automap_base()\n",
    "\n",
    "# engine, suppose it has two tables 'user' and 'address' set up\n",
    "engine = create_engine(\"sqlite:///tycho.db\")"
   ]
  },
  {
   "cell_type": "markdown",
   "metadata": {},
   "source": [
    "<!-- label:sqlalchemy_reflect -->\n",
    "Use reflection on the SQL side to create the objects from the database."
   ]
  },
  {
   "cell_type": "code",
   "execution_count": null,
   "metadata": {},
   "outputs": [],
   "source": [
    "Base.prepare(engine, reflect=True)\n",
    "location = Base.classes.location"
   ]
  },
  {
   "cell_type": "markdown",
   "metadata": {},
   "source": [
    "---\n",
    "\n",
    "<!-- label:sqlalchemy_query -->\n",
    "Make a query using SQLalchemy's methods."
   ]
  },
  {
   "cell_type": "code",
   "execution_count": null,
   "metadata": {},
   "outputs": [],
   "source": [
    "session = Session(engine)\n",
    "from sqlalchemy import func # SQL functions\n",
    "\n",
    "query = (session\n",
    "         .query(location.state,\n",
    "                func.count(location.city))\n",
    "         .filter(location.state.like('M%'))\n",
    "         .group_by(location.state)\n",
    "         .order_by(func.count(location.city).desc())\n",
    "         .limit(5))\n",
    "res = query.all()\n"
   ]
  },
  {
   "cell_type": "markdown",
   "metadata": {},
   "source": [
    "Note that SQL and ORM mapping are technology predating StackOverflow.\n",
    "\n",
    "---\n",
    "\n",
    "<!-- label:sqlalchemy_sql -->\n",
    "Function composition is generating SQL code."
   ]
  },
  {
   "cell_type": "code",
   "execution_count": null,
   "metadata": {},
   "outputs": [],
   "source": [
    "from sqlalchemy.dialects import sqlite\n",
    "sql = query.statement.compile(dialect=session.bind.dialect)\n",
    "print(str(sql).replace('GROUP BY', '\\nGROUP BY'))"
   ]
  },
  {
   "cell_type": "markdown",
   "metadata": {},
   "source": [
    "---\n",
    "\n",
    "## Exercises:\n",
    "\n",
    "Can you answer the following in SQL or with SQLAlchemy ?\n",
    "\n",
    "- Count the number of cities in states with a name starting with 'N'\n",
    "\n",
    "- Count the number of cities in each state.\n",
    "\n",
    "- Count the number of cities with a name starting with 'N', stratified by state.\n",
    "\n",
    "- for each state,\n",
    "  count the number of cities for which we have deadly cases\n",
    "  for more than 5 distinct diseases. Oh, and sort the list of states in decreasing\n",
    "  number of such diseases. In fact, only report the first 10 states. (hint: this is\n",
    "  pretty much the last example query about).\n",
    "\n",
    "- Count the total number of cases of flu in NYC\n",
    "  (hint: flu is a short name, you may want the long name)\n",
    "\n",
    "- Count the number of cases of flu in NYC each year\n",
    "\n",
    "---"
   ]
  }
 ],
 "metadata": {},
 "nbformat": 4,
 "nbformat_minor": 2
}
