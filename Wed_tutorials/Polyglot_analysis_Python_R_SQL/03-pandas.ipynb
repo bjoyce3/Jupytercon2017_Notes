{
 "cells": [
  {
   "cell_type": "markdown",
   "metadata": {},
   "source": [
    "# Setup\n",
    "\n",
    "Ensure that our database is ready"
   ]
  },
  {
   "cell_type": "code",
   "execution_count": null,
   "metadata": {},
   "outputs": [],
   "source": [
    "%%bash\n",
    "if [[ -d project-tycho-utilities ]];\n",
    "then\n",
    "  cd project-tycho-utilities/\n",
    "  git pull\n",
    "else\n",
    "  git clone https://github.com/lgautier/project-tycho-utilities.git\n",
    "  cd project-tycho-utilities/\n",
    "fi\n",
    "DBNAME=../tycho.db make all"
   ]
  },
  {
   "cell_type": "markdown",
   "metadata": {},
   "source": [
    "Create a file with the content of our table `location`.\n",
    "We will use it later."
   ]
  },
  {
   "cell_type": "code",
   "execution_count": null,
   "metadata": {},
   "outputs": [],
   "source": [
    "import sqlite3\n",
    "dbfilename = \"tycho.db\"\n",
    "dbcon = sqlite3.connect(dbfilename)\n",
    "cursor = dbcon.cursor()\n",
    "\n",
    "sql = \"\"\"\n",
    "SELECT\n",
    "  state, city\n",
    "FROM\n",
    "  location\n",
    "\"\"\"\n",
    "\n",
    "cursor.execute(sql)\n",
    "\n",
    "import csv\n",
    "with open('location.csv', 'w') as fh:\n",
    "  csv_w = csv.writer(fh)\n",
    "  csv_w.writerow(('state', 'city'))\n",
    "  csv_w.writerows(cursor)"
   ]
  },
  {
   "cell_type": "markdown",
   "metadata": {},
   "source": [
    "---\n",
    "\n",
    "# Pandas DataFrame\n",
    "\n",
    "## Building DataFrames\n",
    "\n",
    "Pandas `DataFrame` is not-unlike SQL tables, R data frames,\n",
    "or (well-structured) spreadsheets.\n",
    "\n",
    "Data frames are, like with R, essentially an array of \"columns\".\n",
    "`pandas.Series` objects are one dimensional arrays.\n",
    "\n",
    "<!-- label:pandas_series -->"
   ]
  },
  {
   "cell_type": "code",
   "execution_count": null,
   "metadata": {},
   "outputs": [],
   "source": [
    "import pandas\n",
    "import numpy\n",
    "\n",
    "s = pandas.Series([1, 3, 5, numpy.nan, 6, 8])\n",
    "s\n"
   ]
  },
  {
   "cell_type": "markdown",
   "metadata": {},
   "source": [
    "The `Series` can be used as a \"column\" in a data frame. \n",
    "\n",
    "<!-- label:pandas_series_dataframe_1 -->"
   ]
  },
  {
   "cell_type": "code",
   "execution_count": null,
   "metadata": {},
   "outputs": [],
   "source": [
    "\n",
    "pandas.DataFrame(s)\n"
   ]
  },
  {
   "cell_type": "markdown",
   "metadata": {},
   "source": [
    "The `Series` can be given a name in which case it will become the name\n",
    "of the column.\n",
    "\n",
    "<!-- label:pandas_series_dataframe_2 -->"
   ]
  },
  {
   "cell_type": "code",
   "execution_count": null,
   "metadata": {},
   "outputs": [],
   "source": [
    "s = pandas.Series([1, 3, 5, numpy.nan, 6, 8], name='measure_a')\n",
    "pandas.DataFrame(s)\n"
   ]
  },
  {
   "cell_type": "markdown",
   "metadata": {},
   "source": [
    "---\n",
    "\n",
    "The constructor for `DataFrame` can be a little counter-intuitive when\n",
    "wanting to built a multi-column DataFrame as it might consider the arguments\n",
    "as sequences of rows or of columns depending on the data structure.\n",
    "The documentation pandas will be your ally.\n",
    "\n",
    "\n",
    "Here the constructor considers each `Series` as a row:"
   ]
  },
  {
   "cell_type": "code",
   "execution_count": null,
   "metadata": {},
   "outputs": [],
   "source": [
    "pandas.DataFrame([s,s])"
   ]
  },
  {
   "cell_type": "markdown",
   "metadata": {},
   "source": [
    "Here the constructor considers each `Series` as a column:\n",
    "\n",
    "<!-- label:pandas_dataframe_dict -->"
   ]
  },
  {
   "cell_type": "code",
   "execution_count": null,
   "metadata": {},
   "outputs": [],
   "source": [
    "pandas.DataFrame({'a': s, 'b': s})"
   ]
  },
  {
   "cell_type": "markdown",
   "metadata": {},
   "source": [
    "---\n",
    "\n",
    "`pandas.DataFrame` objects can also be built by reading data in CSV files.\n",
    "\n",
    "**Note:** Like with regular R data.frame object, all data is loaded into memory.\n",
    "This is obviously only working if there is enough memory on the machine used.\n",
    "\n",
    "<!-- label:pandas_dataframe_read_csv -->"
   ]
  },
  {
   "cell_type": "code",
   "execution_count": null,
   "metadata": {},
   "outputs": [],
   "source": [
    "csv_filename = 'location.csv'\n",
    "dataf = pandas.read_csv(csv_filename)"
   ]
  },
  {
   "cell_type": "markdown",
   "metadata": {},
   "source": [
    "# Working with data frames\n",
    "\n",
    "Types for the columnd are inferred. This is often acceptable for interactive work, but\n",
    "can also lead to surprises."
   ]
  },
  {
   "cell_type": "code",
   "execution_count": null,
   "metadata": {},
   "outputs": [],
   "source": [
    "dataf.dtypes"
   ]
  },
  {
   "cell_type": "markdown",
   "metadata": {},
   "source": [
    "Visually inspection of few rows in the table is a common first step when working interactively.\n",
    "This is often why one wants to \"see the data in a spreadsheet\"."
   ]
  },
  {
   "cell_type": "code",
   "execution_count": null,
   "metadata": {},
   "outputs": [],
   "source": [
    "dataf.head()"
   ]
  },
  {
   "cell_type": "code",
   "execution_count": null,
   "metadata": {},
   "outputs": [],
   "source": [
    "dataf.tail()"
   ]
  },
  {
   "cell_type": "markdown",
   "metadata": {},
   "source": [
    "The size of the `DataFrame` (number of rows and columns)\n",
    "is also a common early check:"
   ]
  },
  {
   "cell_type": "code",
   "execution_count": null,
   "metadata": {},
   "outputs": [],
   "source": [
    "dataf.shape"
   ]
  },
  {
   "cell_type": "markdown",
   "metadata": {},
   "source": [
    "Column names."
   ]
  },
  {
   "cell_type": "code",
   "execution_count": null,
   "metadata": {},
   "outputs": [],
   "source": [
    "dataf.columns"
   ]
  },
  {
   "cell_type": "markdown",
   "metadata": {},
   "source": [
    "Summary statistics.\n",
    "\n",
    "<!-- label:pandas_dataframe_describe -->"
   ]
  },
  {
   "cell_type": "code",
   "execution_count": null,
   "metadata": {},
   "outputs": [],
   "source": [
    "dataf.describe()"
   ]
  },
  {
   "cell_type": "markdown",
   "metadata": {},
   "source": [
    "Filtering rows is a common operation when working with data. This is the `WHERE` clause\n",
    "in SQL.\n",
    "\n",
    "<!-- label:pandas_dataframe_filter -->"
   ]
  },
  {
   "cell_type": "code",
   "execution_count": null,
   "metadata": {},
   "outputs": [],
   "source": [
    "res = dataf[dataf.apply(lambda x: x['state'].startswith('M'), axis=1)]\n",
    "\n",
    "print('Original shape: %r' % repr(dataf.shape))\n",
    "print('After filter: %r' % repr(res.shape))"
   ]
  },
  {
   "cell_type": "markdown",
   "metadata": {},
   "source": [
    "---\n",
    "\n",
    "Sorting:"
   ]
  },
  {
   "cell_type": "code",
   "execution_count": null,
   "metadata": {},
   "outputs": [],
   "source": [
    "res = (dataf\n",
    "       .sort_values('city', ascending=False))       "
   ]
  },
  {
   "cell_type": "markdown",
   "metadata": {},
   "source": [
    "---\n",
    "\n",
    "Like with SQL, tables can be joined using a key (this is like SQL's `INNER JOIN`).\n",
    "\n",
    "<!-- label:pandas_dataframe_inner_join -->"
   ]
  },
  {
   "cell_type": "code",
   "execution_count": null,
   "metadata": {},
   "outputs": [],
   "source": [
    "# DataFrame with counts in a column \"count_cities\"\n",
    "res = (res[['state', 'city']]\n",
    "       .groupby('state')\n",
    "       .count()\n",
    "       .reset_index()\n",
    "       .rename(columns={'city': 'count_cities'}))\n",
    "\n",
    "# Join by state (since the counts are aggregates by state)\n",
    "dataf_with_count = dataf.join(res, on='state', lsuffix='left')"
   ]
  },
  {
   "cell_type": "markdown",
   "metadata": {},
   "source": [
    "---\n",
    "\n",
    "Pivot. This is something usually hard(er) to achieve with SQL."
   ]
  },
  {
   "cell_type": "code",
   "execution_count": null,
   "metadata": {},
   "outputs": [],
   "source": [
    "\n",
    "res = (res\n",
    "       .pivot(index='state', columns='count_cities'))\n",
    "res"
   ]
  },
  {
   "cell_type": "markdown",
   "metadata": {},
   "source": [
    "---\n",
    "\n",
    "# Read from SQL\n",
    "\n",
    "\n",
    "<!-- label:pandas_dataframe_database -->"
   ]
  },
  {
   "cell_type": "code",
   "execution_count": null,
   "metadata": {},
   "outputs": [],
   "source": [
    "import sqlite3\n",
    "\n",
    "# Read sqlite query results into a pandas DataFrame\n",
    "dbcon = sqlite3.connect(\"tycho.db\")\n",
    "\n",
    "sql = \"\"\"\n",
    "SELECT state, city\n",
    "FROM location\n",
    "WHERE state LIKE 'M%'\n",
    "\"\"\"\n",
    "\n",
    "dataf = pandas.read_sql_query(sql, dbcon)\n",
    "\n",
    "print(dataf.head())"
   ]
  },
  {
   "cell_type": "markdown",
   "metadata": {},
   "source": [
    "---"
   ]
  },
  {
   "cell_type": "code",
   "execution_count": null,
   "metadata": {},
   "outputs": [],
   "source": [
    "\n",
    "res = (dataf\n",
    "       .groupby('state')\n",
    "       .count()\n",
    "       .sort_values('city', ascending=False))\n",
    "res"
   ]
  },
  {
   "cell_type": "code",
   "execution_count": null,
   "metadata": {},
   "outputs": [],
   "source": [
    "sql = \"\"\"\n",
    "SELECT state, count(city) AS ct\n",
    "FROM location\n",
    "WHERE state LIKE 'M%'\n",
    "GROUP BY state\n",
    "ORDER BY ct DESC\n",
    "\"\"\"\n",
    "res = pandas.read_sql_query(sql, dbcon)\n",
    "res"
   ]
  }
 ],
 "metadata": {},
 "nbformat": 4,
 "nbformat_minor": 2
}
